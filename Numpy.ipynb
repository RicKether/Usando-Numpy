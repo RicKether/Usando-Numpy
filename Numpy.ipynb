{
 "cells": [
  {
   "cell_type": "code",
   "execution_count": null,
   "id": "5c0bd6d7-b3aa-49a6-97a3-65fa68ce5a55",
   "metadata": {},
   "outputs": [],
   "source": [
    "# NumPy - Matrizes, p1"
   ]
  },
  {
   "cell_type": "code",
   "execution_count": null,
   "id": "ef28c8a8-7735-44a6-b709-81c8becef4f4",
   "metadata": {},
   "outputs": [],
   "source": [
    "# 1. Objeto de Matriz Multidimensional\n",
    "# 2. Variedade de rotinas para operações rápidas em matrizes\n",
    "# 3. Tem um tamanho fixo desde a criação\n",
    "# 4. Os elementos devem ser todos do mesmo tipo\n",
    "# 5. Há a necessidade de fazer importação da biblioteca numpy"
   ]
  },
  {
   "cell_type": "code",
   "execution_count": 2,
   "id": "81691720-f371-44f5-b670-8bb984ba06e2",
   "metadata": {},
   "outputs": [],
   "source": [
    "# Importação de bibliotecas\n",
    "\n",
    "import numpy as np"
   ]
  },
  {
   "cell_type": "code",
   "execution_count": 4,
   "id": "1167dfdc-13c6-4678-b6d8-4301b931e1c9",
   "metadata": {},
   "outputs": [
    {
     "name": "stdout",
     "output_type": "stream",
     "text": [
      "[12 34 26 18 10]\n"
     ]
    }
   ],
   "source": [
    "# Criar uma matriz de uma dimensão\n",
    "\n",
    "a = np.array([12, 34, 26, 18, 10]) \n",
    "print(a)\n",
    "\n"
   ]
  },
  {
   "cell_type": "code",
   "execution_count": 10,
   "id": "45d390c6-71b5-496c-b9c0-99e9c25de6b7",
   "metadata": {},
   "outputs": [
    {
     "data": {
      "text/plain": [
       "numpy.ndarray"
      ]
     },
     "execution_count": 10,
     "metadata": {},
     "output_type": "execute_result"
    }
   ],
   "source": [
    "# Determinar o tipo dos elementos da matriz usando dtype e type\n",
    "\n",
    "\n",
    "# a.dtype()\n",
    "# type(a)"
   ]
  },
  {
   "cell_type": "code",
   "execution_count": null,
   "id": "170dca3a-e66c-42d8-aba7-b83b31632bc4",
   "metadata": {},
   "outputs": [],
   "source": [
    "# Obs:\n",
    "# dtype -> Forma de verificar o tipo de um atributo, ou seja, não é uma função\n",
    "# type() -> Método nativo para verificar o tipo"
   ]
  },
  {
   "cell_type": "code",
   "execution_count": 4,
   "id": "da91337f-4bb0-4df8-8732-ffae2776ca2f",
   "metadata": {},
   "outputs": [
    {
     "name": "stdout",
     "output_type": "stream",
     "text": [
      "float64\n",
      "[1. 2. 3.]\n"
     ]
    }
   ],
   "source": [
    "# Criar a array com um tipo específico (pode ser float64)\n",
    "\n",
    "\n",
    "# uFloat = np.array([1, 2, 3], dtype = np.float64)\n",
    "# uInt = np.array([5, 8, 9], dtype = np.int32)\n",
    "\n",
    "# print(uFloat)\n",
    "# print(uInt)"
   ]
  },
  {
   "cell_type": "code",
   "execution_count": 19,
   "id": "de11c4c5-98b7-4c28-8a02-3c3b236a352b",
   "metadata": {},
   "outputs": [
    {
     "name": "stdout",
     "output_type": "stream",
     "text": [
      "int32 \n",
      " float64\n"
     ]
    }
   ],
   "source": [
    "# Mudar o tipo de array\n",
    "\n",
    "\n",
    "# mType = np.array([5, 6, 7])\n",
    "# print(mType)\n",
    "\n",
    "# floatType = mType.astype(np.float64)\n",
    "# print(floatType)"
   ]
  },
  {
   "cell_type": "code",
   "execution_count": 5,
   "id": "e38cd834-5f1f-40b4-918d-32c89f426b0d",
   "metadata": {},
   "outputs": [
    {
     "data": {
      "text/plain": [
       "array([[1, 2, 3],\n",
       "       [4, 5, 6],\n",
       "       [7, 8, 9]])"
      ]
     },
     "execution_count": 5,
     "metadata": {},
     "output_type": "execute_result"
    }
   ],
   "source": [
    "# Criar uma matriz bidimensional\n",
    "\n",
    "\n",
    "# bm = np.array([[8, 5, 6], [4, 6, 8], [9, 6, 1]])\n",
    "# print(bm)"
   ]
  },
  {
   "cell_type": "code",
   "execution_count": null,
   "id": "c5c15e9f-633b-403a-85e6-94f1a6ae42b2",
   "metadata": {},
   "outputs": [],
   "source": [
    "# p2"
   ]
  },
  {
   "cell_type": "code",
   "execution_count": 3,
   "id": "899cd53e-1c30-4a29-857d-fc6d525cae3c",
   "metadata": {},
   "outputs": [],
   "source": [
    "# Importação de bibliotecas\n",
    "\n",
    "import numpy as np"
   ]
  },
  {
   "cell_type": "code",
   "execution_count": null,
   "id": "9db799cd-22fb-4a2d-8d71-d39e7e011a85",
   "metadata": {},
   "outputs": [],
   "source": [
    "# Criar arrays vazios \n",
    "# tipificados - empty significa que não são inicializados, não que são vazios\n",
    "# indicar as dimensões\n",
    "\n",
    "\n",
    "# a = np.empty([3,2], dtype = np.int32)\n",
    "# print(a)"
   ]
  },
  {
   "cell_type": "code",
   "execution_count": null,
   "id": "723c53fe-3cc0-4971-96ce-b7600151dd4c",
   "metadata": {},
   "outputs": [],
   "source": [
    "# Criar uma matriz  4x3 com valores zero\n",
    "\n",
    "\n",
    "# b = np.zeros([4,3], dtype = np.int32)\n",
    "# print(b)"
   ]
  },
  {
   "cell_type": "code",
   "execution_count": null,
   "id": "31d2e714-989c-4f70-ba21-8ca2733a59c1",
   "metadata": {},
   "outputs": [],
   "source": [
    "# Criar uma matriz com valores iguais a 1\n",
    "\n",
    "\n",
    "# c = np.ones([5, 4], dtype = np.int32)\n",
    "# print(c)"
   ]
  },
  {
   "cell_type": "code",
   "execution_count": null,
   "id": "703799f5-8450-4082-83a3-c276515bf2d3",
   "metadata": {},
   "outputs": [],
   "source": [
    "# Criar matriz quadrada com diagonal principal com valores 1 e os outros valores zero\n",
    "\n",
    "\n",
    "oi = np.eye(4, dtype = np.int32)\n",
    "oi\n",
    "# d = np.eye(5)\n",
    "# print(d)\n",
    "\n",
    "# Obs: Só é possível em matrizes quadráticas"
   ]
  },
  {
   "cell_type": "code",
   "execution_count": 1,
   "id": "a1925557-7dbd-4f63-943b-5bd125fad669",
   "metadata": {},
   "outputs": [],
   "source": [
    "# Impotação de bibliotecas\n",
    "\n",
    "import numpy as np"
   ]
  },
  {
   "cell_type": "code",
   "execution_count": null,
   "id": "e5eb9a77-d2ef-474a-9e1b-5c7ed0a83894",
   "metadata": {},
   "outputs": [],
   "source": [
    "# Criar matriz com valores aleatórios entre zero e um\n",
    "\n",
    "\n",
    "# ale1 = np.random.random(5)\n",
    "# print(ale1)\n",
    "\n",
    "# ale1 = np.random.random(([5, 5])) ***"
   ]
  },
  {
   "cell_type": "code",
   "execution_count": 4,
   "id": "26fe3f33-95f7-4db5-b0fe-a18d5fc895c6",
   "metadata": {},
   "outputs": [
    {
     "data": {
      "text/plain": [
       "array([ 1.93745235, -1.23096542,  0.16579195,  0.91250671, -0.18450583])"
      ]
     },
     "execution_count": 4,
     "metadata": {},
     "output_type": "execute_result"
    }
   ],
   "source": [
    "# Criar matriz com valores aleatórios distr. normal contendo negativos\n",
    "\n",
    "\n",
    "# ale2 = np.random.randn((5))\n",
    "# print(ale2)"
   ]
  },
  {
   "cell_type": "code",
   "execution_count": null,
   "id": "5f052f92-e6c1-4f42-87c2-89331749fab5",
   "metadata": {},
   "outputs": [],
   "source": [
    "# Criar matriz com valores aleatórios, matriz 3 x 4, multiplicando os valores por dez\n",
    "\n",
    "\n",
    "# ale3 = (10*np.random.random([3, 4]))\n",
    "# print(ale3)"
   ]
  },
  {
   "cell_type": "code",
   "execution_count": 8,
   "id": "9c2e4a46-5283-4322-93af-1db7804360fa",
   "metadata": {},
   "outputs": [
    {
     "data": {
      "text/plain": [
       "array([6, 2, 7, 2])"
      ]
     },
     "execution_count": 8,
     "metadata": {},
     "output_type": "execute_result"
    }
   ],
   "source": [
    "# Criar matriz de numeros inteiros, limitando os valores até 10, dimensões (3, 4)\n",
    "\n",
    "\n",
    "inteiros = np.random.randint(10, size = (3, 4))\n",
    "inteiros"
   ]
  },
  {
   "cell_type": "code",
   "execution_count": null,
   "id": "0acc3447-863e-43d4-83e4-070312106db2",
   "metadata": {},
   "outputs": [],
   "source": [
    "# USO DE SEMENTE"
   ]
  },
  {
   "cell_type": "code",
   "execution_count": 10,
   "id": "a1e50b46-b934-4b3f-b135-16aaab83aa5e",
   "metadata": {},
   "outputs": [],
   "source": [
    "# Criar uma semente\n",
    "\n",
    "\n",
    "gnr = np.random.default_rng(1)"
   ]
  },
  {
   "cell_type": "code",
   "execution_count": 14,
   "id": "9a7b33de-100c-44ec-94ad-29f3a6c28f3c",
   "metadata": {},
   "outputs": [
    {
     "name": "stdout",
     "output_type": "stream",
     "text": [
      "[[8 3 4 7]\n",
      " [1 3 1 4]\n",
      " [9 1 3 4]]\n"
     ]
    }
   ],
   "source": [
    "# Criar matriz de números inteiros usando a semente, limitando os números até 10\n",
    "\n",
    "\n",
    "a = gnr.integers(10, size = (3, 4))\n",
    "print(a)"
   ]
  },
  {
   "cell_type": "code",
   "execution_count": 12,
   "id": "6c767435-48d7-471a-a6a9-e4a625236656",
   "metadata": {},
   "outputs": [
    {
     "data": {
      "text/plain": [
       "array([[0.94864945, 0.31183145, 0.42332645],\n",
       "       [0.82770259, 0.40919914, 0.54959369],\n",
       "       [0.02755911, 0.75351311, 0.53814331]])"
      ]
     },
     "execution_count": 12,
     "metadata": {},
     "output_type": "execute_result"
    }
   ],
   "source": [
    "# Gerar números aleatórios usando a semente\n",
    "\n",
    "\n",
    "# ale4 = gnr.random(3)\n",
    "# print (ale4)\n",
    "\n",
    "# ou\n",
    "# a = gnr.random(size=(3,3))\n",
    "# a"
   ]
  },
  {
   "cell_type": "code",
   "execution_count": 1,
   "id": "13b15325-eb3c-43e6-a49d-31d3ab3600e3",
   "metadata": {},
   "outputs": [],
   "source": [
    "import numpy as np"
   ]
  },
  {
   "cell_type": "code",
   "execution_count": 2,
   "id": "d09ce2d4-1976-431d-9157-d76e90f7ef37",
   "metadata": {},
   "outputs": [
    {
     "name": "stdout",
     "output_type": "stream",
     "text": [
      "[1 2 3 4 1 5 2 5] [1 2 3 4 5]\n"
     ]
    }
   ],
   "source": [
    "# remover repetições \n",
    "\n",
    "\n",
    "a = np.array([1, 2, 3, 4, 1, 5, 2, 5])\n",
    "j = np.unique(a)\n",
    "print(a, j)"
   ]
  },
  {
   "cell_type": "code",
   "execution_count": 7,
   "id": "6fe33d56-c2cb-4f43-9f2c-caaee994c713",
   "metadata": {},
   "outputs": [
    {
     "name": "stdout",
     "output_type": "stream",
     "text": [
      "lista ->  [1, 2, 3, 1, 2, 3, 1, 2, 3, 1, 2, 3, 2, 3, 3]\n",
      "unicos ->  [1 2 3]\n",
      "quantidade ->  [4 5 6]\n"
     ]
    }
   ],
   "source": [
    "# remover repetições retornando a quantidade de elementos não repetidos\n",
    "\n",
    "lista = [1,2,3,1,2,3,1,2,3,1,2,3,2,3,3]\n",
    "\n",
    "unicos, quantidade = np.unique(lista, return_counts=True)\n",
    "\n",
    "print('lista -> ', lista)\n",
    "print('unicos -> ', unicos)\n",
    "print('quantidade -> ', quantidade)"
   ]
  },
  {
   "cell_type": "code",
   "execution_count": null,
   "id": "14d6e622-e51b-496b-ab29-428276e8982a",
   "metadata": {},
   "outputs": [],
   "source": [
    "# FUNÇÕES ESPECÍFICAS, p3"
   ]
  },
  {
   "cell_type": "code",
   "execution_count": 1,
   "id": "c1bec4e8-abe0-40e9-aff6-2617cbd81f8e",
   "metadata": {},
   "outputs": [],
   "source": [
    "# Importação de bibliotecas\n",
    "\n",
    "import numpy as np"
   ]
  },
  {
   "cell_type": "code",
   "execution_count": null,
   "id": "cd94025b-6696-49b0-b598-d5055e5140f5",
   "metadata": {},
   "outputs": [],
   "source": [
    "# Criar matriz bidimensional k, com números inteiros, usando uma semente, tamanho 10, 3 x 3\n",
    "\n",
    "\n",
    "# gnr = np.random.default_rng(1)\n",
    "# k = gnr.integers(10, size = (3, 3))\n",
    "# print(k)"
   ]
  },
  {
   "cell_type": "code",
   "execution_count": null,
   "id": "78db090a-c189-40e2-b7e6-23eb79a63b0a",
   "metadata": {},
   "outputs": [],
   "source": [
    "# Criar matriz bidimensional 3 x 3 de números inteiros\n",
    "\n",
    "\n",
    "# k = np.array([[5, 8, 6], [9, 4, 6], [7, 5, 2]])\n",
    "# print(k)"
   ]
  },
  {
   "cell_type": "code",
   "execution_count": null,
   "id": "2083891d-5e7b-4508-bca6-b8b594dab909",
   "metadata": {},
   "outputs": [],
   "source": [
    "# Criar matriz bidimencional 10 x 3 com numeros inteiros, aleatorios de valor máximo 10:\n",
    "\n",
    "\n",
    "# matriz_aleatoria = np.random.randint(10, size=(10,3))\n",
    "# matriz_aleatoria"
   ]
  },
  {
   "cell_type": "code",
   "execution_count": 4,
   "id": "1d2bc8cb-cc1c-4d93-8f40-f54405b3b476",
   "metadata": {},
   "outputs": [
    {
     "data": {
      "text/plain": [
       "[0, 0, 0]"
      ]
     },
     "execution_count": 4,
     "metadata": {},
     "output_type": "execute_result"
    }
   ],
   "source": [
    "# Encontrar as indices com o maior valor em cada linha da matriz aleatoria\n",
    "\n",
    "\n",
    "# matriz_aleatoria_indices_maiores = [np.argmax(t) for t in matriz_aleatoria]\n",
    "# matriz_aleatoria_indices_maiores"
   ]
  },
  {
   "cell_type": "code",
   "execution_count": 11,
   "id": "4375f180-2a45-4458-8f60-a0fa3d4cac27",
   "metadata": {},
   "outputs": [
    {
     "data": {
      "text/plain": [
       "array([[4, 5, 7],\n",
       "       [9, 0, 1],\n",
       "       [8, 9, 2]], dtype=int64)"
      ]
     },
     "execution_count": 11,
     "metadata": {},
     "output_type": "execute_result"
    }
   ],
   "source": [
    "k"
   ]
  },
  {
   "cell_type": "code",
   "execution_count": 14,
   "id": "6cc8540a-8fcc-4940-8c91-c7152d9d889e",
   "metadata": {},
   "outputs": [
    {
     "data": {
      "text/plain": [
       "5"
      ]
     },
     "execution_count": 14,
     "metadata": {},
     "output_type": "execute_result"
    }
   ],
   "source": [
    "# mostrar elemento específico da matriz k \n",
    "\n",
    "\n",
    "# print(k[1][1])"
   ]
  },
  {
   "cell_type": "code",
   "execution_count": null,
   "id": "1ca80dad-da64-457d-b7f7-49070cce876a",
   "metadata": {},
   "outputs": [],
   "source": [
    "# Mostrar o tamanho das dimensões da matriz k\n",
    "\n",
    "\n",
    "# print(k.shape)"
   ]
  },
  {
   "cell_type": "code",
   "execution_count": null,
   "id": "c44bc09d-8dd6-4bdb-87ba-8be91e53733d",
   "metadata": {},
   "outputs": [],
   "source": [
    "# FUNÇÕES MATEMÁTICAS:"
   ]
  },
  {
   "cell_type": "code",
   "execution_count": null,
   "id": "76799cd9-e0d9-4900-b4ce-a37a6d19cfeb",
   "metadata": {},
   "outputs": [],
   "source": [
    "# Mostrar o maior valor da matriz\n",
    "\n",
    "\n",
    "# print(k.max())"
   ]
  },
  {
   "cell_type": "code",
   "execution_count": null,
   "id": "a01fd9c4-f2b9-4ad1-b0f4-2746cfa02eb6",
   "metadata": {},
   "outputs": [],
   "source": [
    "# Mostrar o menor valor da matriz\n",
    "\n",
    "\n",
    "# print(k.min())"
   ]
  },
  {
   "cell_type": "code",
   "execution_count": null,
   "id": "07311051-6003-4ece-ae82-5b0a27544f74",
   "metadata": {},
   "outputs": [],
   "source": [
    "# Mostrar a soma dos valores da matriz\n",
    "\n",
    "\n",
    "# print(k.sum())"
   ]
  },
  {
   "cell_type": "code",
   "execution_count": null,
   "id": "cacaae3e-9503-40a2-988b-97479b2aaaac",
   "metadata": {},
   "outputs": [],
   "source": [
    "# Mostrar o valor médio dos valores da matriz\n",
    "\n",
    "\n",
    "# print(k.mean())"
   ]
  },
  {
   "cell_type": "code",
   "execution_count": null,
   "id": "1caad42e-73d3-47da-8088-987b78e4c7a2",
   "metadata": {},
   "outputs": [],
   "source": [
    "# Mostrar o valor do desvio padrão (standard deviation) dos valores da matriz\n",
    "\n",
    "\n",
    "# print(k.std())"
   ]
  },
  {
   "cell_type": "code",
   "execution_count": null,
   "id": "ae732be5-d97f-4a35-b8c8-015d27f512ce",
   "metadata": {},
   "outputs": [],
   "source": [
    "# Funções universais - aplicadas a todos os elementos da matriz - , p4"
   ]
  },
  {
   "cell_type": "code",
   "execution_count": null,
   "id": "8045a00f-2bf0-4a7a-9dc7-59f16f1e6b61",
   "metadata": {},
   "outputs": [],
   "source": [
    "# Importação de bibliotecas\n",
    "\n",
    "import numpy as np"
   ]
  },
  {
   "cell_type": "code",
   "execution_count": null,
   "id": "92d1b922-16c0-431f-932f-a3dfca62b595",
   "metadata": {},
   "outputs": [],
   "source": [
    "# Criar matriz com quadrados perfeitos\n",
    "\n",
    "\n",
    "# a = np.array([1, 4, 9, 16, 25, 36, 49])\n",
    "# print(a)"
   ]
  },
  {
   "cell_type": "code",
   "execution_count": null,
   "id": "3e3cca9b-9926-44e1-a37b-784fec04f5b8",
   "metadata": {},
   "outputs": [],
   "source": [
    "# Mostrar o valor da raiz quadrada de todos os elementos da matriz\n",
    "\n",
    "\n",
    "# print(np.sqrt(a))"
   ]
  },
  {
   "cell_type": "code",
   "execution_count": null,
   "id": "7f4eff2b-4a66-4b19-9fbe-0ac79ed399a9",
   "metadata": {},
   "outputs": [],
   "source": [
    "# Mostrar o valor do exponencial de todos os elementos da matriz\n",
    "\n",
    "\n",
    "# print(np.exp(a))"
   ]
  },
  {
   "cell_type": "code",
   "execution_count": null,
   "id": "49bc7596-a60e-4d75-bb0c-1e129f72e8f7",
   "metadata": {},
   "outputs": [],
   "source": [
    "# Crie matriz com números inteiros\n",
    "\n",
    "\n",
    "# b = np.array([1, 2, 3, 4, 5, 6])\n",
    "# print(b)"
   ]
  },
  {
   "cell_type": "code",
   "execution_count": null,
   "id": "03303846-9a97-4d18-a9cc-4df215952f91",
   "metadata": {},
   "outputs": [],
   "source": [
    "# Mostrar o elemento na posição 2\n",
    "\n",
    "\n",
    "# print(b[2])"
   ]
  },
  {
   "cell_type": "code",
   "execution_count": null,
   "id": "2f35c945-cd14-4d42-9667-d7e950f065d1",
   "metadata": {},
   "outputs": [],
   "source": [
    "# Mostrar o array criado a partir da posição 0 até o segundo elemento\n",
    "\n",
    "\n",
    "# print(b[0:2])"
   ]
  },
  {
   "cell_type": "code",
   "execution_count": null,
   "id": "b9709ce6-50fb-4245-b16d-97d60fa19ef1",
   "metadata": {},
   "outputs": [],
   "source": [
    "# Mostrar todo o array a partir da 2ª posição\n",
    "\n",
    "\n",
    "# print(b[2:])"
   ]
  },
  {
   "cell_type": "code",
   "execution_count": null,
   "id": "a69e585c-7121-41f2-bdcf-c12f3eea7fad",
   "metadata": {},
   "outputs": [],
   "source": [
    "# Mostrar o array a partir da antepenúltima posição até o final\n",
    "\n",
    "\n",
    "# print(b[-3:])"
   ]
  },
  {
   "cell_type": "code",
   "execution_count": null,
   "id": "07390b77-560e-4b48-9485-1ad47e5e146e",
   "metadata": {},
   "outputs": [],
   "source": [
    "# Extração de Linhas e Colunas"
   ]
  },
  {
   "cell_type": "code",
   "execution_count": null,
   "id": "a40274df-e6d6-4592-95fd-0d8d9763e71b",
   "metadata": {},
   "outputs": [],
   "source": [
    "# Crie matriz bidimensional shape: 3 x 3\n",
    "\n",
    "\n",
    "# a = np.array([[4, 6, 8], [2, 8, 9], [5, 7, 1]])\n",
    "# print(a)\n",
    "# print('----------')"
   ]
  },
  {
   "cell_type": "code",
   "execution_count": null,
   "id": "9bc9610b-c388-4236-a7b8-297ac66b5062",
   "metadata": {},
   "outputs": [],
   "source": [
    "# Print da primeira linha com todas as colunas\n",
    "\n",
    "\n",
    "# print(a[0, :])"
   ]
  },
  {
   "cell_type": "code",
   "execution_count": null,
   "id": "9a36150d-3b5c-4675-bda8-d9ca696d44d5",
   "metadata": {},
   "outputs": [],
   "source": [
    "# Print da segunda linha com todas as colunas\n",
    "\n",
    "\n",
    "# print(a[1, :])"
   ]
  },
  {
   "cell_type": "code",
   "execution_count": null,
   "id": "2f940236-8bc6-4d32-beb1-7c683aceb2f8",
   "metadata": {},
   "outputs": [],
   "source": [
    "# Print da terceiralinha com todas as colunas \n",
    "\n",
    "\n",
    "# print(a[2, :])"
   ]
  },
  {
   "cell_type": "code",
   "execution_count": null,
   "id": "0f671b33-5403-4488-a140-540dc9f635cd",
   "metadata": {},
   "outputs": [],
   "source": [
    "# Print de todas as linhas da primeira coluna\n",
    "\n",
    "\n",
    "# print(a[:, 0])"
   ]
  },
  {
   "cell_type": "code",
   "execution_count": null,
   "id": "eb2852f2-3e18-44a6-b3f9-990eed58175a",
   "metadata": {},
   "outputs": [],
   "source": [
    "# print de todas as linhas  da segunda coluna\n",
    "\n",
    "\n",
    "# print(a[:, 1])"
   ]
  },
  {
   "cell_type": "code",
   "execution_count": null,
   "id": "0267a7d1-7a70-4461-9a74-972c7be73967",
   "metadata": {},
   "outputs": [],
   "source": [
    "# print de todas as linhas  da terceira coluna\n",
    "\n",
    "\n",
    "# print(a[:, 2])"
   ]
  },
  {
   "cell_type": "code",
   "execution_count": null,
   "id": "e178182c-6423-4949-9ae8-586b0ad918a9",
   "metadata": {},
   "outputs": [],
   "source": [
    "# Adição e multiplicação de matrizes, p5"
   ]
  },
  {
   "cell_type": "code",
   "execution_count": 2,
   "id": "20ac3e1f-dde0-45e5-a095-48bde7a27955",
   "metadata": {},
   "outputs": [],
   "source": [
    "# Importação de bibliotecas\n",
    "\n",
    "import numpy as np"
   ]
  },
  {
   "cell_type": "code",
   "execution_count": 3,
   "id": "6e74c020-bb38-4d52-9c7f-91ac1cf69133",
   "metadata": {},
   "outputs": [],
   "source": [
    "# Criar duas matrizes inteiros, shape: 3 x 3\n",
    "\n",
    "\n",
    "a = np.array([[1, 9, 6], [8, 2, 6], [7, 5, 4]])\n",
    "# b = np.array([[5, 6, 8], [4, 6, 7], [1, 6, 2]])\n",
    "\n",
    "# print(a)\n",
    "# print(b)"
   ]
  },
  {
   "cell_type": "code",
   "execution_count": null,
   "id": "9f1af8f9-6e57-45b9-b30b-4d5f9fe990f3",
   "metadata": {},
   "outputs": [],
   "source": [
    "# Some as duas matrizes Criadas\n",
    "\n",
    "\n",
    "# soma1 = a + b\n",
    "# print(soma1)"
   ]
  },
  {
   "cell_type": "code",
   "execution_count": null,
   "id": "817ae173-fbbe-4fb9-ab57-3ac1ecf774a2",
   "metadata": {},
   "outputs": [],
   "source": [
    "# Multiplique as duas matrizes criadas\n",
    "\n",
    "\n",
    "# mult1 = a * b\n",
    "# print(mult1)"
   ]
  },
  {
   "cell_type": "code",
   "execution_count": 4,
   "id": "02a55d7e-0565-4aa4-99bf-32eb39909906",
   "metadata": {},
   "outputs": [],
   "source": [
    "# Criar uma matriz vetor com três elementos: \n",
    "\n",
    "\n",
    "c = np.array([1, 2, 3])\n",
    "# print(c)"
   ]
  },
  {
   "cell_type": "code",
   "execution_count": null,
   "id": "c8052c19-7a1b-4fc9-b6d1-7cd493ff2a0c",
   "metadata": {},
   "outputs": [],
   "source": [
    "# Some uma matriz anterior a essa nova\n",
    "\n",
    "\n",
    "# soma2 = a + c\n",
    "# print(soma2)"
   ]
  },
  {
   "cell_type": "code",
   "execution_count": null,
   "id": "73d3e8ae-0604-4a30-983f-1881626db961",
   "metadata": {},
   "outputs": [],
   "source": [
    "# Multiplique uma matriz anterior a nova\n",
    "\n",
    "\n",
    "# mult2 = b * c\n",
    "# print(mult2)"
   ]
  },
  {
   "cell_type": "code",
   "execution_count": null,
   "id": "c57a6e51-a0aa-4ed1-aa3e-e5425e3af9d7",
   "metadata": {},
   "outputs": [],
   "source": [
    "# TRANSPOSIÇÃO - Rearranjar a matriz transpondo as linhas em colunas e as colunas em linhas\n",
    "# Obs: Não há necessidade de instanciar a matriz, pois o método cria a matriz sozinho"
   ]
  },
  {
   "cell_type": "code",
   "execution_count": null,
   "id": "c42ec4bb-71f7-45f7-b43b-77bffd0a9a24",
   "metadata": {},
   "outputs": [],
   "source": [
    "# Instanciar uma matriz utilizando um método, passando apenas o shape (arange - reshape)\n",
    "\n",
    "\n",
    "# a = np.arange(15).reshape((5, 3))\n",
    "\n",
    "# print(a)"
   ]
  },
  {
   "cell_type": "code",
   "execution_count": null,
   "id": "7c2bd67b-d14e-4242-81be-133a338682dc",
   "metadata": {},
   "outputs": [],
   "source": [
    "# Instanciar um conjunto de 15 elementos 3 x 5, de 0 a 14 em 3 linhas e 5 colunas - Transpor usando T\n",
    "\n",
    "\n",
    "# b = np.arange(15).reshape((3, 5))\n",
    "# print(b)"
   ]
  },
  {
   "cell_type": "code",
   "execution_count": null,
   "id": "52caa1c6-d189-4a73-bce4-cc62a9d90ef0",
   "metadata": {},
   "outputs": [],
   "source": [
    "# Transpor a matriz b usando método T\n",
    "\n",
    "\n",
    "# c = b.T\n",
    "# print(c)"
   ]
  },
  {
   "cell_type": "code",
   "execution_count": null,
   "id": "002176a9-c45f-4b14-b389-ad395bde11f0",
   "metadata": {},
   "outputs": [],
   "source": [
    "# Transpor a matriz a usando método transpose\n",
    "\n",
    "# t = a.transpose((b))\n",
    "\n",
    "# d = a.transpose((1, 0))\n",
    "# print(d)"
   ]
  },
  {
   "cell_type": "code",
   "execution_count": null,
   "id": "9a36fce8-ccdb-433e-8520-d9db641d2639",
   "metadata": {},
   "outputs": [],
   "source": [
    "# EXPRESSÕES LÓGICAS"
   ]
  },
  {
   "cell_type": "code",
   "execution_count": null,
   "id": "392dda3b-8cb2-44c7-82cd-10d373abe743",
   "metadata": {},
   "outputs": [],
   "source": [
    "# Importação das bibliotecas\n",
    "\n",
    "import numpy as np"
   ]
  },
  {
   "cell_type": "code",
   "execution_count": 17,
   "id": "ee4f66cc-e2a6-4446-9eb1-e2421bb437b0",
   "metadata": {},
   "outputs": [
    {
     "data": {
      "text/plain": [
       "array([[-0.48089116, -0.07515221, -1.17046989,  1.04636322, -0.19687512],\n",
       "       [-0.37704007,  3.23896566,  0.37784114, -0.62346404,  1.76082615],\n",
       "       [ 0.62850704, -0.63391546, -0.04592633,  0.96360434, -0.82612188]])"
      ]
     },
     "execution_count": 17,
     "metadata": {},
     "output_type": "execute_result"
    }
   ],
   "source": [
    "# Criar matriz com valores aleatórios, positivos e negativos (distribuição normal)\n",
    "\n",
    "\n",
    "# a = np.random.randn(5, 5)\n",
    "# print(a)"
   ]
  },
  {
   "cell_type": "code",
   "execution_count": 18,
   "id": "bdef1eb7-c18b-4f17-b42b-2f590d3a5c3f",
   "metadata": {},
   "outputs": [
    {
     "data": {
      "text/plain": [
       "array([[False, False, False,  True, False],\n",
       "       [False,  True,  True, False,  True],\n",
       "       [ True, False, False,  True, False]])"
      ]
     },
     "execution_count": 18,
     "metadata": {},
     "output_type": "execute_result"
    }
   ],
   "source": [
    "# Criar uma matriz de elementos booleanos, que seja verdadeira sempre que (a) for maior que (0)\n",
    "\n",
    "\n",
    "# x = (a > 0)\n",
    "# print(x)"
   ]
  },
  {
   "cell_type": "code",
   "execution_count": null,
   "id": "5b8126db-a8c4-46b8-8e5a-f2b929647abf",
   "metadata": {},
   "outputs": [],
   "source": [
    "# Usando Where\n",
    "# Criar matriz com número 1 para x > 0 e -1 x < 0\n",
    "\n",
    "\n",
    "# a = np.where(x > 0, 1, -1)\n",
    "# print(a)"
   ]
  },
  {
   "cell_type": "code",
   "execution_count": 29,
   "id": "4888bf92-3a9c-4141-9bee-c7fa7740b506",
   "metadata": {},
   "outputs": [
    {
     "data": {
      "text/plain": [
       "array([[ 1.00526717, -1.51514491,  1.02877425,  0.4796862 ,  1.88451517],\n",
       "       [-0.18323732,  0.83367001,  1.11445076, -0.12765584, -0.3176924 ],\n",
       "       [-1.20258961,  0.85322505, -0.32132831,  0.13779201,  0.23791987]])"
      ]
     },
     "execution_count": 29,
     "metadata": {},
     "output_type": "execute_result"
    }
   ],
   "source": [
    "x"
   ]
  },
  {
   "cell_type": "code",
   "execution_count": null,
   "id": "643f7003-14dd-4270-8d8a-f55081634154",
   "metadata": {},
   "outputs": [],
   "source": []
  }
 ],
 "metadata": {
  "kernelspec": {
   "display_name": "Python 3 (ipykernel)",
   "language": "python",
   "name": "python3"
  },
  "language_info": {
   "codemirror_mode": {
    "name": "ipython",
    "version": 3
   },
   "file_extension": ".py",
   "mimetype": "text/x-python",
   "name": "python",
   "nbconvert_exporter": "python",
   "pygments_lexer": "ipython3",
   "version": "3.10.9"
  }
 },
 "nbformat": 4,
 "nbformat_minor": 5
}
